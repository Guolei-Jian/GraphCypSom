{
 "cells": [
  {
   "cell_type": "code",
   "execution_count": 2,
   "metadata": {},
   "outputs": [
    {
     "name": "stderr",
     "output_type": "stream",
     "text": [
      "RDKit WARNING: [12:23:19] Enabling RDKit 2019.09.3 jupyter extensions\n",
      "[12:23:19] Enabling RDKit 2019.09.3 jupyter extensions\n"
     ]
    }
   ],
   "source": [
    "from rdkit import Chem\n",
    "import torch\n",
    "from torch_geometric.data import Dataset, Data\n",
    "import numpy as np\n",
    "import os\n",
    "import pandas as pd\n",
    "import pickle\n",
    "from rdkit.Chem.rdchem import HybridizationType, ChiralType"
   ]
  },
  {
   "cell_type": "code",
   "execution_count": 3,
   "metadata": {},
   "outputs": [],
   "source": [
    "filepath = '../Dataset/Supplementary Material-2.xls'\n",
    "token_list = ['2E1', '2D6', '3A4', '2A6', '2C19', '2C9', '2B6', '1A2', '2C8']"
   ]
  },
  {
   "cell_type": "code",
   "execution_count": 4,
   "metadata": {},
   "outputs": [
    {
     "name": "stdout",
     "output_type": "stream",
     "text": [
      "1811\n"
     ]
    }
   ],
   "source": [
    "# data = {'name':[smiles, {'token':target}]}\n",
    "train_data = {}\n",
    "for idx, token in enumerate(token_list):\n",
    "    df = pd.read_excel(io=filepath,sheet_name=idx)\n",
    "    for i in range(len(df.index.values)):\n",
    "        name, smiles, target = df.loc[i, :].values\n",
    "        if name in train_data:\n",
    "            train_data[name][-1][token] = target\n",
    "        else:\n",
    "            train_data[name] = [smiles, {token: target}]\n",
    "print(len(train_data))"
   ]
  },
  {
   "cell_type": "code",
   "execution_count": 5,
   "metadata": {},
   "outputs": [
    {
     "name": "stdout",
     "output_type": "stream",
     "text": [
      "1811\n"
     ]
    }
   ],
   "source": [
    "# find error, if some cyp is true, some cyp is false, that is error\n",
    "raw_data = []\n",
    "for key, value in train_data.items():\n",
    "    if len(value[-1]) > 1:\n",
    "        if True in value[-1].values() and False in value[-1].values():\n",
    "            raw_data.append([value[0], True])\n",
    "        elif True in value[-1].values():\n",
    "            raw_data.append([value[0], True])\n",
    "        else:\n",
    "            raw_data.append([value[0], False])\n",
    "    else:\n",
    "        if True in value[-1].values():\n",
    "            raw_data.append([value[0], True])\n",
    "        else:\n",
    "            raw_data.append([value[0], False])\n",
    "print(len(raw_data))"
   ]
  },
  {
   "cell_type": "code",
   "execution_count": 6,
   "metadata": {},
   "outputs": [
    {
     "name": "stdout",
     "output_type": "stream",
     "text": [
      "truecount is 700 false count is 1111\n"
     ]
    }
   ],
   "source": [
    "true_count = 0\n",
    "false_count = 0\n",
    "for data in raw_data:\n",
    "    if data[-1]:\n",
    "        true_count += 1\n",
    "    else:\n",
    "        false_count += 1\n",
    "print(f'truecount is {true_count} false count is {false_count}')"
   ]
  },
  {
   "cell_type": "code",
   "execution_count": 7,
   "metadata": {},
   "outputs": [],
   "source": [
    "import random\n",
    "random.seed(42)\n",
    "random.shuffle(raw_data)"
   ]
  },
  {
   "cell_type": "code",
   "execution_count": 8,
   "metadata": {},
   "outputs": [],
   "source": [
    "train_data = raw_data[:int(len(raw_data) * 0.8)]\n",
    "test_data = raw_data[int(len(raw_data) * 0.8):]\n",
    "pickle.dump(train_data, open('../Dataset/cypstrate_all/raw/train.pkl', 'wb'))\n",
    "pickle.dump(test_data, open('../Dataset/cypstrate_all/raw/test.pkl', 'wb'))"
   ]
  },
  {
   "cell_type": "code",
   "execution_count": 9,
   "metadata": {},
   "outputs": [],
   "source": [
    "class Cypstrateall(Dataset):\n",
    "\n",
    "    def __init__(self, root, filename, test=False,transform=None, pre_transform=None, pre_filter=None):\n",
    "        self.filename = filename\n",
    "        self.test = test\n",
    "        super().__init__(root, transform, pre_transform, pre_filter)\n",
    "\n",
    "    @property\n",
    "    def raw_file_names(self):\n",
    "        return self.filename\n",
    "\n",
    "    @property\n",
    "    def processed_file_names(self):\n",
    "        self.raws = pickle.load(open(self.raw_paths[0], 'rb'))\n",
    "        if self.test:\n",
    "            return [f'data_test_{i}' for i in range(len(self.raws))]\n",
    "        else:\n",
    "            return [f'data_{i}.pt' for i in range(len(self.raws))]\n",
    "\n",
    "    def download(self):\n",
    "        pass\n",
    "\n",
    "    def process(self):\n",
    "        self.raws = pickle.load(open(self.raw_paths[0], 'rb'))\n",
    "        for idx, data in enumerate(self.raws):\n",
    "            mol = Chem.MolFromSmiles(data[0])\n",
    "            # Get node features\n",
    "            node_feats = self._get_node_features(mol)\n",
    "            # Get edge features\n",
    "            edge_feats = self._get_edge_features(mol)\n",
    "            # Get adjacency info\n",
    "            edge_index = self._get_adjacency_info(mol)\n",
    "            # Get labels info\n",
    "            label = self._get_labels(data[1])\n",
    "            # create data object\n",
    "            data = Data(x=node_feats, \n",
    "                        edge_index=edge_index,\n",
    "                        edge_attr=edge_feats,\n",
    "                        y=label,\n",
    "                        )\n",
    "            if self.test:\n",
    "                torch.save(data, os.path.join(self.processed_dir, \\\n",
    "                f'data_test_{idx}.pt'))\n",
    "            else:\n",
    "                torch.save(data, os.path.join(self.processed_dir, \\\n",
    "                f'data_{idx}.pt'))\n",
    "        \n",
    "    def _get_node_features(self, mol):\n",
    "        all_node_feats = []\n",
    "\n",
    "        identity = {\n",
    "            'C':[1,0,0,0,0,0,0,0,0,0],\n",
    "            'N':[0,1,0,0,0,0,0,0,0,0],\n",
    "            'O':[0,0,1,0,0,0,0,0,0,0],\n",
    "            'F':[0,0,0,1,0,0,0,0,0,0],\n",
    "            'P':[0,0,0,0,1,0,0,0,0,0],\n",
    "            'S':[0,0,0,0,0,1,0,0,0,0],\n",
    "            'Cl':[0,0,0,0,0,0,1,0,0,0],\n",
    "            'Br':[0,0,0,0,0,0,0,1,0,0],\n",
    "            'I':[0,0,0,0,0,0,0,0,1,0],\n",
    "            'other':[0,0,0,0,0,0,0,0,0,1],\n",
    "        }\n",
    "        for atom in mol.GetAtoms():\n",
    "            node_feats = []\n",
    "            # atom number\n",
    "            idx = atom.GetIdx()\n",
    "            # atom type one-hot 10\n",
    "            node_feats.extend(identity.get(atom.GetSymbol(),[0,0,0,0,0,0,0,0,0,1]))\n",
    "            # implicit valence\n",
    "            node_feats.append(atom.GetImplicitValence())\n",
    "            # formal charge\n",
    "            node_feats.append(atom.GetFormalCharge())\n",
    "            # radical electrons\n",
    "            node_feats.append(atom.GetNumRadicalElectrons())\n",
    "            \n",
    "            # aromatic 0 or 1\n",
    "            if atom.GetIsAromatic():\n",
    "                node_feats.append(1)\n",
    "            else:\n",
    "                node_feats.append(0)\n",
    "\n",
    "            # chirality\n",
    "            chirality = atom.GetChiralTag()\n",
    "            if chirality == ChiralType.CHI_TETRAHEDRAL_CCW: temp = [1, 0, 0, 0]\n",
    "            if chirality == ChiralType.CHI_TETRAHEDRAL_CW: temp = [0, 1, 0, 0]\n",
    "            if chirality == ChiralType.CHI_OTHER: temp = [0, 0, 1, 0]\n",
    "            if chirality == ChiralType.CHI_UNSPECIFIED: temp = [0, 0, 0, 1]\n",
    "            node_feats.extend(temp)\n",
    "            # hybridization\n",
    "            hybridization = atom.GetHybridization()\n",
    "            if hybridization == HybridizationType.S: tmp = [1, 0, 0, 0, 0, 0, 0, 0]\n",
    "            if hybridization == HybridizationType.SP: tmp = [0, 1, 0, 0, 0, 0, 0, 0]\n",
    "            if hybridization == HybridizationType.SP2: tmp = [0, 0, 1, 0, 0, 0, 0, 0]\n",
    "            if hybridization == HybridizationType.SP3: tmp = [0, 0, 0, 1, 0, 0, 0, 0]\n",
    "            if hybridization == HybridizationType.SP3D: tmp = [0, 0, 0, 0, 1, 0, 0, 0]\n",
    "            if hybridization == HybridizationType.SP3D2: tmp = [0, 0, 0, 0, 0, 1, 0, 0]\n",
    "            if hybridization == HybridizationType.OTHER: tmp = [0, 0, 0, 0, 0, 0, 1, 0]\n",
    "            if hybridization == HybridizationType.UNSPECIFIED: tmp = [0, 0, 0, 0, 0, 0, 0, 1]\n",
    "            node_feats.extend(tmp)\n",
    "            # Append node features to matrix\n",
    "            all_node_feats.append(node_feats)\n",
    "\n",
    "        all_node_feats = np.asarray(all_node_feats)\n",
    "        return torch.tensor(all_node_feats, dtype=torch.float)\n",
    "\n",
    "    def _get_edge_features(self, mol):\n",
    "        \"\"\" \n",
    "        This will return a matrix / 2d array of the shape\n",
    "        [Number of edges, Edge Feature size]\n",
    "        \"\"\"\n",
    "        all_edge_feats = []\n",
    "\n",
    "        for bond in mol.GetBonds():\n",
    "            edge_feats = []\n",
    "            # Feature 1: Bond type (as double)\n",
    "            edge_feats.append(bond.GetBondTypeAsDouble())\n",
    "            # Feature 2: Rings\n",
    "            edge_feats.append(bond.IsInRing())\n",
    "            # Append node features to matrix (twice, per direction)\n",
    "            all_edge_feats += [edge_feats, edge_feats]\n",
    "\n",
    "        all_edge_feats = np.asarray(all_edge_feats)\n",
    "        return torch.tensor(all_edge_feats, dtype=torch.float)\n",
    "\n",
    "    def _get_adjacency_info(self, mol):\n",
    "        \"\"\"\n",
    "        We could also use rdmolops.GetAdjacencyMatrix(mol)\n",
    "        but we want to be sure that the order of the indices\n",
    "        matches the order of the edge features\n",
    "        \"\"\"\n",
    "        edge_indices = []\n",
    "        for bond in mol.GetBonds():\n",
    "            i = bond.GetBeginAtomIdx()\n",
    "            j = bond.GetEndAtomIdx()\n",
    "            edge_indices += [[i, j], [j, i]]\n",
    "\n",
    "        edge_indices = torch.tensor(edge_indices)\n",
    "        edge_indices = edge_indices.t().to(torch.long).view(2, -1)\n",
    "        return edge_indices\n",
    "\n",
    "    def _get_labels(self, target):\n",
    "        if target:\n",
    "            y = 1\n",
    "        else:\n",
    "            y = 0\n",
    "        return torch.tensor(y, dtype=torch.int64)\n",
    "\n",
    "    def len(self):\n",
    "        return len(self.raws)\n",
    "\n",
    "    def get(self, idx):\n",
    "        if self.test:\n",
    "            data = torch.load(os.path.join(self.processed_dir, f'data_test_{idx}.pt'))\n",
    "        else:\n",
    "            data = torch.load(os.path.join(self.processed_dir, f'data_{idx}.pt'))\n",
    "        return data"
   ]
  },
  {
   "cell_type": "code",
   "execution_count": 10,
   "metadata": {},
   "outputs": [
    {
     "name": "stderr",
     "output_type": "stream",
     "text": [
      "Processing...\n",
      "Done!\n"
     ]
    }
   ],
   "source": [
    "train_dataset = Cypstrateall('../Dataset/cypstrate_all/', 'train.pkl')\n",
    "test_dataset = Cypstrateall('../Dataset/cypstrate_all/', 'test.pkl', test=True)"
   ]
  },
  {
   "cell_type": "code",
   "execution_count": null,
   "metadata": {},
   "outputs": [],
   "source": []
  }
 ],
 "metadata": {
  "kernelspec": {
   "display_name": "Python 3.8.11 ('pytorch')",
   "language": "python",
   "name": "python3"
  },
  "language_info": {
   "codemirror_mode": {
    "name": "ipython",
    "version": 3
   },
   "file_extension": ".py",
   "mimetype": "text/x-python",
   "name": "python",
   "nbconvert_exporter": "python",
   "pygments_lexer": "ipython3",
   "version": "3.8.11"
  },
  "orig_nbformat": 4,
  "vscode": {
   "interpreter": {
    "hash": "ae2bdcb5ffd42edc58b1d6fb8428ae1d2700e79a4fc0c0139ea5d98047639f54"
   }
  }
 },
 "nbformat": 4,
 "nbformat_minor": 2
}
