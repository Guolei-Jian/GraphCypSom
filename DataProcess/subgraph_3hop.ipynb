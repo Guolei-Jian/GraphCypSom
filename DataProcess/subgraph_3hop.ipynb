{
 "cells": [
  {
   "cell_type": "code",
   "execution_count": 1,
   "metadata": {},
   "outputs": [
    {
     "name": "stderr",
     "output_type": "stream",
     "text": [
      "RDKit WARNING: [23:11:56] Enabling RDKit 2019.09.3 jupyter extensions\n",
      "[23:11:56] Enabling RDKit 2019.09.3 jupyter extensions\n"
     ]
    }
   ],
   "source": [
    "import networkx as nx\n",
    "import numpy as np\n",
    "import torch\n",
    "from torch_geometric.data import Dataset, Data\n",
    "import numpy as np\n",
    "import os\n",
    "from rdkit import Chem\n",
    "import pickle\n",
    "from rdkit.Chem.rdchem import HybridizationType, ChiralType\n",
    "from torch_geometric.utils import from_networkx"
   ]
  },
  {
   "cell_type": "code",
   "execution_count": 2,
   "metadata": {},
   "outputs": [],
   "source": [
    "filepath = '../Dataset/merged.sdf'\n",
    "mols = Chem.SDMolSupplier(filepath)"
   ]
  },
  {
   "cell_type": "code",
   "execution_count": 3,
   "metadata": {},
   "outputs": [],
   "source": [
    "def mol2y(mol):\n",
    "    _y = []\n",
    "    som = ['PRIMARY_SOM_1A2', 'PRIMARY_SOM_2A6','PRIMARY_SOM_2B6','PRIMARY_SOM_2C8','PRIMARY_SOM_2C9','PRIMARY_SOM_2C19','PRIMARY_SOM_2D6','PRIMARY_SOM_2E1','PRIMARY_SOM_3A4',\n",
    "           'SECONDARY_SOM_1A2', 'SECONDARY_SOM_2A6','SECONDARY_SOM_2B6','SECONDARY_SOM_2C8','SECONDARY_SOM_2C9','SECONDARY_SOM_2C19','SECONDARY_SOM_2D6','SECONDARY_SOM_2E1','SECONDARY_SOM_3A4',\n",
    "           'TERTIARY_SOM_1A2', 'TERTIARY_SOM_2A6','TERTIARY_SOM_2B6','TERTIARY_SOM_2C8','TERTIARY_SOM_2C9','TERTIARY_SOM_2C19','TERTIARY_SOM_2D6','TERTIARY_SOM_2E1','TERTIARY_SOM_3A4'\n",
    "          ]\n",
    "    result = []\n",
    "    for k in som:\n",
    "        try:\n",
    "            _res = mol.GetProp(k)\n",
    "            if ' ' in _res:\n",
    "                res = _res.split(' ')\n",
    "                for s in res:\n",
    "                    result.append(int(s))\n",
    "                # res = [int(temp) for temp in res]\n",
    "            else:\n",
    "                # res = [int(_res)]\n",
    "                result.append(int(_res))\n",
    "        except:\n",
    "            pass\n",
    "\n",
    "    for data in result:\n",
    "        _y.append(data)\n",
    "    _y = list(set(_y))\n",
    "\n",
    "    y = np.zeros(len(mol.GetAtoms()))\n",
    "    for i in _y:\n",
    "        y[i-1] = 1\n",
    "    return y"
   ]
  },
  {
   "cell_type": "code",
   "execution_count": 4,
   "metadata": {},
   "outputs": [],
   "source": [
    "def mol2graph(mol):\n",
    "    target = mol2y(mol)\n",
    "    g = nx.Graph()\n",
    "    identity = {\n",
    "        'C':[1,0,0,0,0,0,0,0,0,0],\n",
    "        'N':[0,1,0,0,0,0,0,0,0,0],\n",
    "        'O':[0,0,1,0,0,0,0,0,0,0],\n",
    "        'F':[0,0,0,1,0,0,0,0,0,0],\n",
    "        'P':[0,0,0,0,1,0,0,0,0,0],\n",
    "        'S':[0,0,0,0,0,1,0,0,0,0],\n",
    "        'Cl':[0,0,0,0,0,0,1,0,0,0],\n",
    "        'Br':[0,0,0,0,0,0,0,1,0,0],\n",
    "        'I':[0,0,0,0,0,0,0,0,1,0],\n",
    "        'other':[0,0,0,0,0,0,0,0,0,1],\n",
    "    }\n",
    "    for atom in mol.GetAtoms():\n",
    "        node_feats = []\n",
    "        # atom number\n",
    "        idx = atom.GetIdx()\n",
    "        # atom type one-hot 10\n",
    "        node_feats.extend(identity.get(atom.GetSymbol(),[0,0,0,0,0,0,0,0,0,1]))\n",
    "        # implicit valence\n",
    "        node_feats.append(atom.GetImplicitValence())\n",
    "        # formal charge\n",
    "        node_feats.append(atom.GetFormalCharge())\n",
    "        # radical electrons\n",
    "        node_feats.append(atom.GetNumRadicalElectrons())\n",
    "            \n",
    "        # aromatic 0 or 1\n",
    "        if atom.GetIsAromatic():\n",
    "            node_feats.append(1)\n",
    "        else:\n",
    "            node_feats.append(0)\n",
    "\n",
    "        # chirality\n",
    "        chirality = atom.GetChiralTag()\n",
    "        if chirality == ChiralType.CHI_TETRAHEDRAL_CCW: temp = [1, 0, 0, 0]\n",
    "        if chirality == ChiralType.CHI_TETRAHEDRAL_CW: temp = [0, 1, 0, 0]\n",
    "        if chirality == ChiralType.CHI_OTHER: temp = [0, 0, 1, 0]\n",
    "        if chirality == ChiralType.CHI_UNSPECIFIED: temp = [0, 0, 0, 1]\n",
    "        node_feats.extend(temp)\n",
    "        # hybridization\n",
    "        hybridization = atom.GetHybridization()\n",
    "        if hybridization == HybridizationType.S: tmp = [1, 0, 0, 0, 0, 0, 0, 0]\n",
    "        if hybridization == HybridizationType.SP: tmp = [0, 1, 0, 0, 0, 0, 0, 0]\n",
    "        if hybridization == HybridizationType.SP2: tmp = [0, 0, 1, 0, 0, 0, 0, 0]\n",
    "        if hybridization == HybridizationType.SP3: tmp = [0, 0, 0, 1, 0, 0, 0, 0]\n",
    "        if hybridization == HybridizationType.SP3D: tmp = [0, 0, 0, 0, 1, 0, 0, 0]\n",
    "        if hybridization == HybridizationType.SP3D2: tmp = [0, 0, 0, 0, 0, 1, 0, 0]\n",
    "        if hybridization == HybridizationType.OTHER: tmp = [0, 0, 0, 0, 0, 0, 1, 0]\n",
    "        if hybridization == HybridizationType.UNSPECIFIED: tmp = [0, 0, 0, 0, 0, 0, 0, 1]\n",
    "        node_feats.extend(tmp)\n",
    "        node_feats = np.asarray(node_feats)\n",
    "        g.add_node(idx, x=node_feats, y=int(target[idx]))\n",
    "\n",
    "        for bond in mol.GetBonds():\n",
    "            edge_feats = []\n",
    "            # Feature 1: Bond type (as double)\n",
    "            edge_feats.append(bond.GetBondTypeAsDouble())\n",
    "            # Feature 2: Rings\n",
    "            edge_feats.append(bond.IsInRing())\n",
    "            edge_feats = np.asarray(edge_feats)\n",
    "            g.add_edge(bond.GetBeginAtomIdx(), bond.GetEndAtomIdx(), edge_attr = edge_feats)\n",
    "\n",
    "    return g"
   ]
  },
  {
   "cell_type": "code",
   "execution_count": 5,
   "metadata": {},
   "outputs": [],
   "source": [
    "def get_neighbors_aslist(g, node, depth=1):\n",
    "    output = {}\n",
    "    output[0] = [node]\n",
    "    layers = dict(nx.bfs_successors(g, source=node, depth_limit=depth))\n",
    "    nodes = [node]\n",
    "    for i in range(1, depth+1):\n",
    "        output[i] = []\n",
    "        for x in nodes:\n",
    "            output[i].extend(layers.get(x, []))\n",
    "        nodes = output[i]\n",
    "    res = []\n",
    "    for _, v in output.items():\n",
    "        res.extend(v)\n",
    "    return res"
   ]
  },
  {
   "cell_type": "code",
   "execution_count": 6,
   "metadata": {},
   "outputs": [],
   "source": [
    "dataset = []\n",
    "for mol in mols:\n",
    "    g = mol2graph(mol)\n",
    "    for node in g.nodes(data=True):\n",
    "        if node[-1]['y']:\n",
    "            out = get_neighbors_aslist(g, node[0], depth=3)\n",
    "            # subgraph\n",
    "            subgraph = g.subgraph(out)\n",
    "            # generate new y\n",
    "            y = []\n",
    "            for n in subgraph.nodes(data=True):\n",
    "                y.append(n[-1]['y'])\n",
    "            dataset.append((subgraph, np.array(y)))"
   ]
  },
  {
   "cell_type": "code",
   "execution_count": 7,
   "metadata": {},
   "outputs": [
    {
     "data": {
      "text/plain": [
       "1662"
      ]
     },
     "execution_count": 7,
     "metadata": {},
     "output_type": "execute_result"
    }
   ],
   "source": [
    "len(dataset)"
   ]
  },
  {
   "cell_type": "code",
   "execution_count": 8,
   "metadata": {},
   "outputs": [],
   "source": [
    "import random\n",
    "random.seed(42)\n",
    "random.shuffle(dataset)"
   ]
  },
  {
   "cell_type": "code",
   "execution_count": 9,
   "metadata": {},
   "outputs": [],
   "source": [
    "training_set = dataset[:int(len(dataset) * 0.8)]\n",
    "test_set = dataset[int(len(dataset) * 0.8):]"
   ]
  },
  {
   "cell_type": "code",
   "execution_count": 10,
   "metadata": {},
   "outputs": [],
   "source": [
    "import pickle \n",
    "pickle.dump(training_set, open('../Dataset/subgraph_3hop/raw/train.pkl', 'wb'))\n",
    "pickle.dump(test_set, open('../Dataset/subgraph_3hop/raw/test.pkl', 'wb'))"
   ]
  },
  {
   "cell_type": "code",
   "execution_count": 11,
   "metadata": {},
   "outputs": [],
   "source": [
    "class Subgraph3hop(Dataset):\n",
    "\n",
    "    def __init__(self, root, filename, test=False,transform=None, pre_transform=None, pre_filter=None):\n",
    "        self.filename = filename\n",
    "        self.test = test\n",
    "        super().__init__(root, transform, pre_transform, pre_filter)\n",
    "\n",
    "    @property\n",
    "    def raw_file_names(self):\n",
    "        return self.filename\n",
    "\n",
    "    @property\n",
    "    def processed_file_names(self):\n",
    "        self.mols = pickle.load(open(self.raw_paths[0], 'rb'))\n",
    "        if self.test:\n",
    "            return [f'data_test_{i}' for i in range(len(self.mols))]\n",
    "        else:\n",
    "            return [f'data_{i}.pt' for i in range(len(self.mols))]\n",
    "\n",
    "    def download(self):\n",
    "        pass\n",
    "\n",
    "    def process(self):\n",
    "        self.mols = pickle.load(open(self.raw_paths[0], 'rb'))\n",
    "        for idx, mol in enumerate(self.mols):\n",
    "            data = from_networkx(mol[0])\n",
    "            data.x = data.x.to(torch.float32)\n",
    "            data.y = data.y.to(torch.int64)\n",
    "            if self.test:\n",
    "                torch.save(data, os.path.join(self.processed_dir, \\\n",
    "                f'data_test_{idx}.pt'))\n",
    "            else:\n",
    "                torch.save(data, os.path.join(self.processed_dir, \\\n",
    "                f'data_{idx}.pt'))\n",
    "\n",
    "    def len(self):\n",
    "        return len(self.mols)\n",
    "\n",
    "    def get(self, idx):\n",
    "        if self.test:\n",
    "            data = torch.load(os.path.join(self.processed_dir, f'data_test_{idx}.pt'))\n",
    "        else:\n",
    "            data = torch.load(os.path.join(self.processed_dir, f'data_{idx}.pt'))\n",
    "        return data"
   ]
  },
  {
   "cell_type": "code",
   "execution_count": 12,
   "metadata": {},
   "outputs": [
    {
     "name": "stderr",
     "output_type": "stream",
     "text": [
      "Processing...\n",
      "Done!\n",
      "Processing...\n",
      "Done!\n"
     ]
    }
   ],
   "source": [
    "train_dataset = Subgraph3hop('../Dataset/subgraph_3hop/', 'train.pkl')\n",
    "test_dataset = Subgraph3hop('../Dataset/subgraph_3hop/', 'test.pkl', test=True)"
   ]
  },
  {
   "cell_type": "code",
   "execution_count": null,
   "metadata": {},
   "outputs": [],
   "source": []
  }
 ],
 "metadata": {
  "kernelspec": {
   "display_name": "Python 3.8.11 ('pytorch')",
   "language": "python",
   "name": "python3"
  },
  "language_info": {
   "codemirror_mode": {
    "name": "ipython",
    "version": 3
   },
   "file_extension": ".py",
   "mimetype": "text/x-python",
   "name": "python",
   "nbconvert_exporter": "python",
   "pygments_lexer": "ipython3",
   "version": "3.8.11"
  },
  "orig_nbformat": 4,
  "vscode": {
   "interpreter": {
    "hash": "ae2bdcb5ffd42edc58b1d6fb8428ae1d2700e79a4fc0c0139ea5d98047639f54"
   }
  }
 },
 "nbformat": 4,
 "nbformat_minor": 2
}
