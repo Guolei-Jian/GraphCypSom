{
 "cells": [
  {
   "cell_type": "code",
   "execution_count": 23,
   "metadata": {},
   "outputs": [],
   "source": [
    "from rdkit import Chem\n",
    "from rdkit.Chem.rdchem import HybridizationType, ChiralType\n",
    "import torch\n",
    "from torch_geometric.data import Dataset, Data, DataLoader\n",
    "import numpy as np\n",
    "import os\n",
    "import networkx as nx\n",
    "import torch.nn as nn\n",
    "from torch_geometric.nn import SAGEConv\n",
    "from torch.utils.data import random_split\n",
    "import pickle\n",
    "from torch_geometric.utils import from_networkx\n",
    "from sklearn.metrics import confusion_matrix, roc_auc_score, accuracy_score, precision_score, f1_score, recall_score, jaccard_score"
   ]
  },
  {
   "cell_type": "code",
   "execution_count": 24,
   "metadata": {},
   "outputs": [],
   "source": [
    "from torch.utils.tensorboard import SummaryWriter\n",
    "tr_writer = SummaryWriter(\"./tensorboard/atombased/train\")\n",
    "val_writer = SummaryWriter(\"./tensorboard/atombased/val\")"
   ]
  },
  {
   "cell_type": "code",
   "execution_count": 25,
   "metadata": {},
   "outputs": [],
   "source": [
    "class Atombased(Dataset):\n",
    "\n",
    "    def __init__(self, root, filename, test=False,transform=None, pre_transform=None, pre_filter=None):\n",
    "        self.filename = filename\n",
    "        self.test = test\n",
    "        super().__init__(root, transform, pre_transform, pre_filter)\n",
    "\n",
    "    @property\n",
    "    def raw_file_names(self):\n",
    "        return self.filename\n",
    "\n",
    "    @property\n",
    "    def processed_file_names(self):\n",
    "        self.mols = Chem.SDMolSupplier(self.raw_paths[0])\n",
    "        if self.test:\n",
    "            return [f'data_test_{i}' for i in range(len(self.mols))]\n",
    "        else:\n",
    "            return [f'data_{i}.pt' for i in range(len(self.mols))]\n",
    "\n",
    "    def download(self):\n",
    "        pass\n",
    "\n",
    "    def process(self):\n",
    "        self.mols = Chem.SDMolSupplier(self.raw_paths[0])\n",
    "        for idx, mol in enumerate(self.mols):\n",
    "            # Get node features\n",
    "            node_feats = self._get_node_features(mol)\n",
    "            # Get edge features\n",
    "            edge_feats = self._get_edge_features(mol)\n",
    "            # Get adjacency info\n",
    "            edge_index = self._get_adjacency_info(mol)\n",
    "            # Get labels info\n",
    "            label = self._get_labels(mol)\n",
    "            # create data object\n",
    "            data = Data(x=node_feats, \n",
    "                        edge_index=edge_index,\n",
    "                        edge_attr=edge_feats,\n",
    "                        y=label,\n",
    "                        )\n",
    "            if self.test:\n",
    "                torch.save(data, os.path.join(self.processed_dir, \\\n",
    "                f'data_test_{idx}.pt'))\n",
    "            else:\n",
    "                torch.save(data, os.path.join(self.processed_dir, \\\n",
    "                f'data_{idx}.pt'))\n",
    "        \n",
    "    def _get_node_features(self, mol):\n",
    "        all_node_feats = []\n",
    "\n",
    "        identity = {\n",
    "            'C':[1,0,0,0,0,0,0,0,0,0],\n",
    "            'N':[0,1,0,0,0,0,0,0,0,0],\n",
    "            'O':[0,0,1,0,0,0,0,0,0,0],\n",
    "            'F':[0,0,0,1,0,0,0,0,0,0],\n",
    "            'P':[0,0,0,0,1,0,0,0,0,0],\n",
    "            'S':[0,0,0,0,0,1,0,0,0,0],\n",
    "            'Cl':[0,0,0,0,0,0,1,0,0,0],\n",
    "            'Br':[0,0,0,0,0,0,0,1,0,0],\n",
    "            'I':[0,0,0,0,0,0,0,0,1,0],\n",
    "            'other':[0,0,0,0,0,0,0,0,0,1],\n",
    "        }\n",
    "        for atom in mol.GetAtoms():\n",
    "            node_feats = []\n",
    "            # atom number\n",
    "            idx = atom.GetIdx()\n",
    "            # atom type one-hot 10\n",
    "            node_feats.extend(identity.get(atom.GetSymbol(),[0,0,0,0,0,0,0,0,0,1]))\n",
    "            # implicit valence\n",
    "            node_feats.append(atom.GetImplicitValence())\n",
    "            # formal charge\n",
    "            node_feats.append(atom.GetFormalCharge())\n",
    "            # radical electrons\n",
    "            node_feats.append(atom.GetNumRadicalElectrons())\n",
    "            \n",
    "            # aromatic 0 or 1\n",
    "            if atom.GetIsAromatic():\n",
    "                node_feats.append(1)\n",
    "            else:\n",
    "                node_feats.append(0)\n",
    "\n",
    "            # chirality\n",
    "            chirality = atom.GetChiralTag()\n",
    "            if chirality == ChiralType.CHI_TETRAHEDRAL_CCW: temp = [1, 0, 0, 0]\n",
    "            if chirality == ChiralType.CHI_TETRAHEDRAL_CW: temp = [0, 1, 0, 0]\n",
    "            if chirality == ChiralType.CHI_OTHER: temp = [0, 0, 1, 0]\n",
    "            if chirality == ChiralType.CHI_UNSPECIFIED: temp = [0, 0, 0, 1]\n",
    "            node_feats.extend(temp)\n",
    "            # hybridization\n",
    "            hybridization = atom.GetHybridization()\n",
    "            if hybridization == HybridizationType.S: tmp = [1, 0, 0, 0, 0, 0, 0, 0]\n",
    "            if hybridization == HybridizationType.SP: tmp = [0, 1, 0, 0, 0, 0, 0, 0]\n",
    "            if hybridization == HybridizationType.SP2: tmp = [0, 0, 1, 0, 0, 0, 0, 0]\n",
    "            if hybridization == HybridizationType.SP3: tmp = [0, 0, 0, 1, 0, 0, 0, 0]\n",
    "            if hybridization == HybridizationType.SP3D: tmp = [0, 0, 0, 0, 1, 0, 0, 0]\n",
    "            if hybridization == HybridizationType.SP3D2: tmp = [0, 0, 0, 0, 0, 1, 0, 0]\n",
    "            if hybridization == HybridizationType.OTHER: tmp = [0, 0, 0, 0, 0, 0, 1, 0]\n",
    "            if hybridization == HybridizationType.UNSPECIFIED: tmp = [0, 0, 0, 0, 0, 0, 0, 1]\n",
    "            node_feats.extend(tmp)\n",
    "            # Append node features to matrix\n",
    "            all_node_feats.append(node_feats)\n",
    "\n",
    "        all_node_feats = np.asarray(all_node_feats)\n",
    "        return torch.tensor(all_node_feats, dtype=torch.float)\n",
    "\n",
    "    def _get_edge_features(self, mol):\n",
    "        \"\"\" \n",
    "        This will return a matrix / 2d array of the shape\n",
    "        [Number of edges, Edge Feature size]\n",
    "        \"\"\"\n",
    "        all_edge_feats = []\n",
    "\n",
    "        for bond in mol.GetBonds():\n",
    "            edge_feats = []\n",
    "            # Feature 1: Bond type (as double)\n",
    "            edge_feats.append(bond.GetBondTypeAsDouble())\n",
    "            # Feature 2: Rings\n",
    "            edge_feats.append(bond.IsInRing())\n",
    "            # Append node features to matrix (twice, per direction)\n",
    "            all_edge_feats += [edge_feats, edge_feats]\n",
    "\n",
    "        all_edge_feats = np.asarray(all_edge_feats)\n",
    "        return torch.tensor(all_edge_feats, dtype=torch.float)\n",
    "\n",
    "    def _get_adjacency_info(self, mol):\n",
    "        \"\"\"\n",
    "        We could also use rdmolops.GetAdjacencyMatrix(mol)\n",
    "        but we want to be sure that the order of the indices\n",
    "        matches the order of the edge features\n",
    "        \"\"\"\n",
    "        edge_indices = []\n",
    "        for bond in mol.GetBonds():\n",
    "            i = bond.GetBeginAtomIdx()\n",
    "            j = bond.GetEndAtomIdx()\n",
    "            edge_indices += [[i, j], [j, i]]\n",
    "\n",
    "        edge_indices = torch.tensor(edge_indices)\n",
    "        edge_indices = edge_indices.t().to(torch.long).view(2, -1)\n",
    "        return edge_indices\n",
    "\n",
    "    def _get_labels(self, mol):\n",
    "        _y = []\n",
    "        som = ['PRIMARY_SOM_1A2', 'PRIMARY_SOM_2A6','PRIMARY_SOM_2B6','PRIMARY_SOM_2C8','PRIMARY_SOM_2C9','PRIMARY_SOM_2C19','PRIMARY_SOM_2D6','PRIMARY_SOM_2E1','PRIMARY_SOM_3A4',\n",
    "            'SECONDARY_SOM_1A2', 'SECONDARY_SOM_2A6','SECONDARY_SOM_2B6','SECONDARY_SOM_2C8','SECONDARY_SOM_2C9','SECONDARY_SOM_2C19','SECONDARY_SOM_2D6','SECONDARY_SOM_2E1','SECONDARY_SOM_3A4',\n",
    "            'TERTIARY_SOM_1A2', 'TERTIARY_SOM_2A6','TERTIARY_SOM_2B6','TERTIARY_SOM_2C8','TERTIARY_SOM_2C9','TERTIARY_SOM_2C19','TERTIARY_SOM_2D6','TERTIARY_SOM_2E1','TERTIARY_SOM_3A4'\n",
    "            ]\n",
    "        result = []\n",
    "        for k in som:\n",
    "            try:\n",
    "                _res = mol.GetProp(k)\n",
    "                if ' ' in _res:\n",
    "                    res = _res.split(' ')\n",
    "                    for s in res:\n",
    "                        result.append(int(s))\n",
    "                else:\n",
    "                    result.append(int(_res))\n",
    "            except:\n",
    "                pass\n",
    "\n",
    "        for data in result:\n",
    "            _y.append(data)\n",
    "        _y = list(set(_y))\n",
    "\n",
    "        y = np.zeros(len(mol.GetAtoms()))\n",
    "        for i in _y:\n",
    "            y[i-1] = 1\n",
    "        # int64 or float32? past is float32\n",
    "        return torch.tensor(y, dtype=torch.int64)\n",
    "\n",
    "    def len(self):\n",
    "        return len(self.mols)\n",
    "\n",
    "    def get(self, idx):\n",
    "        if self.test:\n",
    "            data = torch.load(os.path.join(self.processed_dir, f'data_test_{idx}.pt'))\n",
    "        else:\n",
    "            data = torch.load(os.path.join(self.processed_dir, f'data_{idx}.pt'))\n",
    "        return data"
   ]
  },
  {
   "cell_type": "code",
   "execution_count": 26,
   "metadata": {},
   "outputs": [
    {
     "name": "stderr",
     "output_type": "stream",
     "text": [
      "Processing...\n",
      "Done!\n"
     ]
    }
   ],
   "source": [
    "train_dataset = Atombased('../Dataset/atom_based/', 'train.sdf')\n",
    "test_dataset = Atombased('../Dataset/atom_based/', 'test.sdf', test=True)"
   ]
  },
  {
   "cell_type": "code",
   "execution_count": 27,
   "metadata": {},
   "outputs": [
    {
     "name": "stderr",
     "output_type": "stream",
     "text": [
      "/home/jgl/anaconda3/envs/pytorch/lib/python3.8/site-packages/torch_geometric/deprecation.py:13: UserWarning: 'data.DataLoader' is deprecated, use 'loader.DataLoader' instead\n",
      "  warnings.warn(out)\n"
     ]
    }
   ],
   "source": [
    "training_set, validation_set  = random_split(train_dataset, [435, 109], generator=torch.Generator().manual_seed(42))\n",
    "batch_size = 1\n",
    "train_loader = DataLoader(training_set, batch_size, shuffle=True)\n",
    "val_loader = DataLoader(validation_set, batch_size, shuffle=True)\n",
    "test_loader = DataLoader(test_dataset, batch_size, shuffle=False)"
   ]
  },
  {
   "cell_type": "code",
   "execution_count": 28,
   "metadata": {},
   "outputs": [],
   "source": [
    "import torch\n",
    "import torch.nn as nn\n",
    "import torch.nn.functional as F\n",
    "from torch_geometric.nn import global_mean_pool\n",
    "from torch.nn.modules.batchnorm import _BatchNorm\n",
    "import torch_geometric.nn as gnn\n",
    "from torch import Tensor\n",
    "from collections import OrderedDict"
   ]
  },
  {
   "cell_type": "code",
   "execution_count": 29,
   "metadata": {},
   "outputs": [],
   "source": [
    "class NodeLevelBatchNorm(_BatchNorm):\n",
    "    r\"\"\"\n",
    "    Applies Batch Normalization over a batch of graph data.\n",
    "    Shape:\n",
    "        - Input: [batch_nodes_dim, node_feature_dim]\n",
    "        - Output: [batch_nodes_dim, node_feature_dim]\n",
    "    batch_nodes_dim: all nodes of a batch graph\n",
    "    \"\"\"\n",
    "\n",
    "    def __init__(self, num_features, eps=1e-5, momentum=0.1, affine=True,\n",
    "                 track_running_stats=True):\n",
    "        super(NodeLevelBatchNorm, self).__init__(\n",
    "            num_features, eps, momentum, affine, track_running_stats)\n",
    "\n",
    "    def _check_input_dim(self, input):\n",
    "        if input.dim() != 2:\n",
    "            raise ValueError('expected 2D input (got {}D input)'\n",
    "                             .format(input.dim()))\n",
    "\n",
    "    def forward(self, input):\n",
    "        self._check_input_dim(input)\n",
    "        if self.momentum is None:\n",
    "            exponential_average_factor = 0.0\n",
    "        else:\n",
    "            exponential_average_factor = self.momentum\n",
    "        if self.training and self.track_running_stats:\n",
    "            if self.num_batches_tracked is not None:\n",
    "                self.num_batches_tracked = self.num_batches_tracked + 1\n",
    "                if self.momentum is None:\n",
    "                    exponential_average_factor = 1.0 / float(self.num_batches_tracked)\n",
    "                else:\n",
    "                    exponential_average_factor = self.momentum\n",
    "\n",
    "        return torch.functional.F.batch_norm(\n",
    "            input, self.running_mean, self.running_var, self.weight, self.bias,\n",
    "            self.training or not self.track_running_stats,\n",
    "            exponential_average_factor, self.eps)\n",
    "\n",
    "    def extra_repr(self):\n",
    "        return 'num_features={num_features}, eps={eps}, ' \\\n",
    "               'affine={affine}'.format(**self.__dict__)"
   ]
  },
  {
   "cell_type": "code",
   "execution_count": 30,
   "metadata": {},
   "outputs": [],
   "source": [
    "class GraphConvBn(nn.Module):\n",
    "    def __init__(self, in_channels, out_channels):\n",
    "        super().__init__()\n",
    "        self.conv = gnn.GraphConv(in_channels, out_channels)\n",
    "        self.norm = NodeLevelBatchNorm(out_channels)\n",
    "\n",
    "    def forward(self, data):\n",
    "        x, edge_index, batch = data.x, data.edge_index, data.batch\n",
    "        data.x = F.relu(self.norm(self.conv(x, edge_index)))\n",
    "\n",
    "        return data"
   ]
  },
  {
   "cell_type": "code",
   "execution_count": 31,
   "metadata": {},
   "outputs": [],
   "source": [
    "class DenseLayer(nn.Module):\n",
    "    def __init__(self, num_input_features, growth_rate=128, bn_size=4):\n",
    "        super().__init__()\n",
    "        self.conv1 = GraphConvBn(num_input_features, int(growth_rate * bn_size))\n",
    "        self.conv2 = GraphConvBn(int(growth_rate * bn_size), growth_rate)\n",
    "\n",
    "    def bn_function(self, data):\n",
    "        concated_features = torch.cat(data.x, 1)\n",
    "        data.x = concated_features\n",
    "\n",
    "        data = self.conv1(data)\n",
    "\n",
    "        return data\n",
    "    \n",
    "    def forward(self, data):\n",
    "        if isinstance(data.x, Tensor):\n",
    "            data.x = [data.x]\n",
    "\n",
    "        data = self.bn_function(data)\n",
    "        data = self.conv2(data)\n",
    "\n",
    "        return data"
   ]
  },
  {
   "cell_type": "code",
   "execution_count": 32,
   "metadata": {},
   "outputs": [],
   "source": [
    "class DenseBlock(nn.ModuleDict):\n",
    "    def __init__(self, num_layers, num_input_features, growth_rate=128, bn_size=4):\n",
    "        super().__init__()\n",
    "        for i in range(num_layers):\n",
    "            layer = DenseLayer(num_input_features + i * growth_rate, growth_rate, bn_size)\n",
    "            self.add_module('layer%d' % (i + 1), layer)\n",
    "\n",
    "\n",
    "    def forward(self, data):\n",
    "        features = [data.x]\n",
    "        for name, layer in self.items():\n",
    "            data = layer(data)\n",
    "            features.append(data.x)\n",
    "            data.x = features\n",
    "\n",
    "        data.x = torch.cat(data.x, 1)\n",
    "\n",
    "        return data"
   ]
  },
  {
   "cell_type": "code",
   "execution_count": 33,
   "metadata": {},
   "outputs": [],
   "source": [
    "class GraphDenseNet(nn.Module):\n",
    "    def __init__(self, num_input_features, out_dim, growth_rate=128, block_config = (3, 3, 3, 3), bn_sizes=[2, 3, 4, 4]):\n",
    "        super().__init__()\n",
    "        self.features = nn.Sequential(OrderedDict([('conv0', GraphConvBn(num_input_features, 32))]))\n",
    "        num_input_features = 32\n",
    "\n",
    "        for i, num_layers in enumerate(block_config):\n",
    "            block = DenseBlock(\n",
    "                num_layers, num_input_features, growth_rate=growth_rate, bn_size=bn_sizes[i]\n",
    "            )\n",
    "            self.features.add_module('block%d' % (i+1), block)\n",
    "            num_input_features += int(num_layers * growth_rate)\n",
    "\n",
    "            trans = GraphConvBn(num_input_features, num_input_features // 2)\n",
    "            self.features.add_module(\"transition%d\" % (i+1), trans)\n",
    "            num_input_features = num_input_features // 2\n",
    "\n",
    "        self.classifer = nn.Linear(num_input_features, out_dim)\n",
    "\n",
    "    def forward(self, data):\n",
    "        data = self.features(data)\n",
    "        # x = gnn.global_mean_pool(data.x, data.batch)\n",
    "        x = self.classifer(data.x)\n",
    "\n",
    "        return x\n"
   ]
  },
  {
   "cell_type": "code",
   "execution_count": 56,
   "metadata": {},
   "outputs": [],
   "source": [
    "class MGraphDTA(nn.Module):\n",
    "    def __init__(self, filter_num=128, out_dim=2):\n",
    "        super().__init__()\n",
    "        self.ligand_encoder = GraphDenseNet(num_input_features=26, out_dim=filter_num*3, block_config=[1,1,1,1,1,1], bn_sizes=[1,1,1,1,1,1])\n",
    "\n",
    "        self.classifier = nn.Sequential(\n",
    "            nn.Linear(filter_num * 3, 1024),\n",
    "            nn.ReLU(),\n",
    "            nn.Dropout(0.4),\n",
    "            # nn.Linear(1024, 1024),\n",
    "            # nn.ReLU(),\n",
    "            # nn.Dropout(0.1),\n",
    "            nn.Linear(1024, 256),\n",
    "            nn.ReLU(),\n",
    "            nn.Dropout(0.4),\n",
    "            nn.Linear(256, out_dim)\n",
    "        )\n",
    "\n",
    "    def forward(self, data):\n",
    "        target = data.y\n",
    "        ligand_x = self.ligand_encoder(data)\n",
    "        # print(f'model output after gnn {ligand_x}\\n')\n",
    "        x = self.classifier(ligand_x)\n",
    "        # print(f'model output after linear {x}\\n')\n",
    "        return x"
   ]
  },
  {
   "cell_type": "code",
   "execution_count": 57,
   "metadata": {},
   "outputs": [],
   "source": [
    "import random\n",
    "import os\n",
    "import numpy as np\n",
    "np.set_printoptions(threshold=np.inf)\n",
    "def seed_torch(seed=42):\n",
    "\trandom.seed(seed)\n",
    "\tos.environ['PYTHONHASHSEED'] = str(seed) # 为了禁止hash随机化，使得实验可复现\n",
    "\tnp.random.seed(seed)\n",
    "\ttorch.manual_seed(seed)\n",
    "\ttorch.cuda.manual_seed(seed)\n",
    "\ttorch.cuda.manual_seed_all(seed) # if you are using multi-GPU."
   ]
  },
  {
   "cell_type": "code",
   "execution_count": 58,
   "metadata": {},
   "outputs": [],
   "source": [
    "# evaluation\n",
    "def top2(output, label):\n",
    "    sf = nn.Softmax(dim=1)\n",
    "    preds = sf(output)\n",
    "    preds = preds[:, 1]\n",
    "    _, indices = torch.topk(preds, 2)\n",
    "    pos_index = []\n",
    "    for i in range(label.shape[0]):\n",
    "        if label[i] == 1:\n",
    "            pos_index.append(i)  \n",
    "    for li in pos_index:\n",
    "        if li in indices:\n",
    "            return True\n",
    "    return False\n",
    "\n",
    "def MCC(output, label):\n",
    "    tn,fp,fn,tp=confusion_matrix(label, output).ravel()\n",
    "    up = (tp * tn) - (fp * fn)\n",
    "    down = ((tp + fp) * (tp + fn) * (tn + fp) * (tn + fn)) ** 0.5\n",
    "    return up / down\n",
    "\n",
    "def metrics(output, label):\n",
    "    tn,fp,fn,tp=confusion_matrix(label, output).ravel()\n",
    "    up = (tp * tn) - (fp * fn)\n",
    "    down = ((tp + fp) * (tp + fn) * (tn + fp) * (tn + fn)) ** 0.5\n",
    "    mcc = up / down\n",
    "    selectivity = tn / (tn + fp)\n",
    "    recall = tp / (tp + fn)\n",
    "    g_mean = (selectivity * recall) ** 0.5\n",
    "    balancedAccuracy = (recall + selectivity) / 2\n",
    "    return mcc, selectivity, recall, g_mean, balancedAccuracy"
   ]
  },
  {
   "cell_type": "code",
   "execution_count": 59,
   "metadata": {},
   "outputs": [],
   "source": [
    "def train(args, model, device, training_set, optimizer, criterion, epoch):\n",
    "    model.train()\n",
    "    sf = nn.Softmax(dim=1)\n",
    "    total_loss = 0\n",
    "    all_pred = []\n",
    "    all_pred_raw = []\n",
    "    all_labels = []\n",
    "    top2n = 0\n",
    "    for mol in training_set:\n",
    "        mol = mol.to(device)\n",
    "        mol.x = mol.x.to(torch.float32)\n",
    "        target = mol.y\n",
    "        optimizer.zero_grad()\n",
    "        output= model(mol)\n",
    "        loss = criterion(output, target)\n",
    "        loss.backward()\n",
    "        optimizer.step()\n",
    "        total_loss += loss.item()\n",
    "        # tracking\n",
    "        top2n += top2(output, target)\n",
    "        all_pred.append(np.argmax(output.cpu().detach().numpy(), axis=1))\n",
    "        all_pred_raw.append(sf(output)[:, 1].cpu().detach().numpy())\n",
    "        all_labels.append(target.cpu().detach().numpy())\n",
    "\n",
    "    all_pred = np.concatenate(all_pred).ravel()\n",
    "    all_pred_raw = np.concatenate(all_pred_raw).ravel()\n",
    "    all_labels = np.concatenate(all_labels).ravel()\n",
    "\n",
    "    mcc = MCC(all_pred, all_labels)\n",
    "    tr_writer.add_scalar('Ave Loss', total_loss / len(training_set), epoch)\n",
    "    tr_writer.add_scalar('ACC', accuracy_score(all_labels, all_pred), epoch)\n",
    "    tr_writer.add_scalar('Top2', top2n / len(training_set), epoch)\n",
    "    try:\n",
    "        auc = roc_auc_score(all_labels, all_pred_raw)\n",
    "        tr_writer.add_scalar('AUC', auc, epoch)\n",
    "    except:\n",
    "        auc = -1\n",
    "    tr_writer.add_scalar('MCC', mcc, epoch)\n",
    "    print(f'Train Epoch: {epoch}, Ave Loss: {total_loss / len(training_set)} ACC: {accuracy_score(all_labels, all_pred)} Top2: {top2n / len(training_set)} AUC: {auc} MCC: {mcc}')"
   ]
  },
  {
   "cell_type": "code",
   "execution_count": 60,
   "metadata": {},
   "outputs": [],
   "source": [
    "def val(args, model, device, val_set, optimizer, criterion, epoch):\n",
    "    model.eval()\n",
    "    sf = nn.Softmax(dim=1)\n",
    "    total_loss = 0\n",
    "    all_pred = []\n",
    "    all_pred_raw = []\n",
    "    all_labels = []\n",
    "    top2n = 0\n",
    "    for mol in val_set:\n",
    "        mol = mol.to(device)\n",
    "        mol.x = mol.x.to(torch.float32)\n",
    "        target = mol.y\n",
    "        optimizer.zero_grad()\n",
    "        output = model(mol)\n",
    "        loss = criterion(output, target)\n",
    "        loss.backward()\n",
    "        optimizer.step()\n",
    "        total_loss += loss.item()\n",
    "        # tracking\n",
    "        top2n += top2(output, target)\n",
    "        all_pred.append(np.argmax(output.cpu().detach().numpy(), axis=1))\n",
    "        all_pred_raw.append(sf(output)[:, 1].cpu().detach().numpy())\n",
    "        all_labels.append(target.cpu().detach().numpy())\n",
    "    all_pred = np.concatenate(all_pred).ravel()\n",
    "    all_pred_raw = np.concatenate(all_pred_raw).ravel()\n",
    "    all_labels = np.concatenate(all_labels).ravel()\n",
    "    mcc = MCC(all_pred, all_labels)\n",
    "    val_writer.add_scalar('Ave Loss', total_loss / len(val_set), epoch)\n",
    "    val_writer.add_scalar('ACC', accuracy_score(all_labels, all_pred), epoch)\n",
    "    val_writer.add_scalar('Top2', top2n / len(val_set), epoch)\n",
    "    try:\n",
    "        auc = roc_auc_score(all_labels, all_pred_raw)\n",
    "        tr_writer.add_scalar('AUC', auc, epoch)\n",
    "    except:\n",
    "        auc = -1\n",
    "    val_writer.add_scalar('MCC', mcc, epoch)\n",
    "    print(f'Val Epoch: {epoch}, Ave Loss: {total_loss / len(val_set)} ACC: {accuracy_score(all_labels, all_pred)} Top2: {top2n / len(val_set)} AUC: {auc} MCC: {mcc}')\n",
    "    return top2n / len(val_set)"
   ]
  },
  {
   "cell_type": "code",
   "execution_count": 61,
   "metadata": {},
   "outputs": [],
   "source": [
    "def main(args):\n",
    "    seed_torch(args['seed'])\n",
    "    device = \"cuda\" if torch.cuda.is_available() else \"cpu\"\n",
    "    torch.manual_seed(args['seed'])\n",
    "\n",
    "    model = MGraphDTA(filter_num=32, out_dim=2).to(device)\n",
    "    print(model)\n",
    "    weights = torch.tensor([1, args['pos_weight']], dtype=torch.float32).to(device)\n",
    "    loss_fn = torch.nn.CrossEntropyLoss(weight=weights)\n",
    "    optimizer = torch.optim.Adam(model.parameters(), lr=args['lr'])\n",
    "    # optimizer = torch.optim.SGD(model.parameters(), lr=args['lr'])\n",
    "    scheduler = torch.optim.lr_scheduler.ExponentialLR(optimizer, gamma=0.95)\n",
    "    max_top2 = 0\n",
    "    for epoch in range(1, args['epoch'] + 1):\n",
    "        train(args, model, device, train_loader, optimizer, loss_fn, epoch)\n",
    "        top2acc = val(args, model, device, val_loader, optimizer, loss_fn, epoch)\n",
    "        scheduler.step()\n",
    "        if top2acc > max_top2:\n",
    "            max_top2 = top2acc\n",
    "            print('Saving model (epoch = {:4d}, top2acc = {:.4f})'\n",
    "                .format(epoch, max_top2))\n",
    "            torch.save(model.state_dict(), args['save_path'])"
   ]
  },
  {
   "cell_type": "code",
   "execution_count": 62,
   "metadata": {},
   "outputs": [],
   "source": [
    "args = {\n",
    "    'lr': 0.0005,\n",
    "    'epoch': 35,\n",
    "    'seed': 42,\n",
    "    'save_path': './model/atom_based_block6_bn1',\n",
    "    'pos_weight': 3,\n",
    "    'conv_hidden': 1024, \n",
    "    'cls_hidden': 1024,\n",
    "    'n_layers': 3\n",
    "}"
   ]
  },
  {
   "cell_type": "code",
   "execution_count": 64,
   "metadata": {},
   "outputs": [
    {
     "name": "stdout",
     "output_type": "stream",
     "text": [
      "MGraphDTA(\n",
      "  (ligand_encoder): GraphDenseNet(\n",
      "    (features): Sequential(\n",
      "      (conv0): GraphConvBn(\n",
      "        (conv): GraphConv(26, 32)\n",
      "        (norm): NodeLevelBatchNorm(num_features=32, eps=1e-05, affine=True)\n",
      "      )\n",
      "      (block1): DenseBlock(\n",
      "        (layer1): DenseLayer(\n",
      "          (conv1): GraphConvBn(\n",
      "            (conv): GraphConv(32, 128)\n",
      "            (norm): NodeLevelBatchNorm(num_features=128, eps=1e-05, affine=True)\n",
      "          )\n",
      "          (conv2): GraphConvBn(\n",
      "            (conv): GraphConv(128, 128)\n",
      "            (norm): NodeLevelBatchNorm(num_features=128, eps=1e-05, affine=True)\n",
      "          )\n",
      "        )\n",
      "      )\n",
      "      (transition1): GraphConvBn(\n",
      "        (conv): GraphConv(160, 80)\n",
      "        (norm): NodeLevelBatchNorm(num_features=80, eps=1e-05, affine=True)\n",
      "      )\n",
      "      (block2): DenseBlock(\n",
      "        (layer1): DenseLayer(\n",
      "          (conv1): GraphConvBn(\n",
      "            (conv): GraphConv(80, 128)\n",
      "            (norm): NodeLevelBatchNorm(num_features=128, eps=1e-05, affine=True)\n",
      "          )\n",
      "          (conv2): GraphConvBn(\n",
      "            (conv): GraphConv(128, 128)\n",
      "            (norm): NodeLevelBatchNorm(num_features=128, eps=1e-05, affine=True)\n",
      "          )\n",
      "        )\n",
      "      )\n",
      "      (transition2): GraphConvBn(\n",
      "        (conv): GraphConv(208, 104)\n",
      "        (norm): NodeLevelBatchNorm(num_features=104, eps=1e-05, affine=True)\n",
      "      )\n",
      "      (block3): DenseBlock(\n",
      "        (layer1): DenseLayer(\n",
      "          (conv1): GraphConvBn(\n",
      "            (conv): GraphConv(104, 128)\n",
      "            (norm): NodeLevelBatchNorm(num_features=128, eps=1e-05, affine=True)\n",
      "          )\n",
      "          (conv2): GraphConvBn(\n",
      "            (conv): GraphConv(128, 128)\n",
      "            (norm): NodeLevelBatchNorm(num_features=128, eps=1e-05, affine=True)\n",
      "          )\n",
      "        )\n",
      "      )\n",
      "      (transition3): GraphConvBn(\n",
      "        (conv): GraphConv(232, 116)\n",
      "        (norm): NodeLevelBatchNorm(num_features=116, eps=1e-05, affine=True)\n",
      "      )\n",
      "      (block4): DenseBlock(\n",
      "        (layer1): DenseLayer(\n",
      "          (conv1): GraphConvBn(\n",
      "            (conv): GraphConv(116, 128)\n",
      "            (norm): NodeLevelBatchNorm(num_features=128, eps=1e-05, affine=True)\n",
      "          )\n",
      "          (conv2): GraphConvBn(\n",
      "            (conv): GraphConv(128, 128)\n",
      "            (norm): NodeLevelBatchNorm(num_features=128, eps=1e-05, affine=True)\n",
      "          )\n",
      "        )\n",
      "      )\n",
      "      (transition4): GraphConvBn(\n",
      "        (conv): GraphConv(244, 122)\n",
      "        (norm): NodeLevelBatchNorm(num_features=122, eps=1e-05, affine=True)\n",
      "      )\n",
      "      (block5): DenseBlock(\n",
      "        (layer1): DenseLayer(\n",
      "          (conv1): GraphConvBn(\n",
      "            (conv): GraphConv(122, 128)\n",
      "            (norm): NodeLevelBatchNorm(num_features=128, eps=1e-05, affine=True)\n",
      "          )\n",
      "          (conv2): GraphConvBn(\n",
      "            (conv): GraphConv(128, 128)\n",
      "            (norm): NodeLevelBatchNorm(num_features=128, eps=1e-05, affine=True)\n",
      "          )\n",
      "        )\n",
      "      )\n",
      "      (transition5): GraphConvBn(\n",
      "        (conv): GraphConv(250, 125)\n",
      "        (norm): NodeLevelBatchNorm(num_features=125, eps=1e-05, affine=True)\n",
      "      )\n",
      "      (block6): DenseBlock(\n",
      "        (layer1): DenseLayer(\n",
      "          (conv1): GraphConvBn(\n",
      "            (conv): GraphConv(125, 128)\n",
      "            (norm): NodeLevelBatchNorm(num_features=128, eps=1e-05, affine=True)\n",
      "          )\n",
      "          (conv2): GraphConvBn(\n",
      "            (conv): GraphConv(128, 128)\n",
      "            (norm): NodeLevelBatchNorm(num_features=128, eps=1e-05, affine=True)\n",
      "          )\n",
      "        )\n",
      "      )\n",
      "      (transition6): GraphConvBn(\n",
      "        (conv): GraphConv(253, 126)\n",
      "        (norm): NodeLevelBatchNorm(num_features=126, eps=1e-05, affine=True)\n",
      "      )\n",
      "    )\n",
      "    (classifer): Linear(in_features=126, out_features=96, bias=True)\n",
      "  )\n",
      "  (classifier): Sequential(\n",
      "    (0): Linear(in_features=96, out_features=1024, bias=True)\n",
      "    (1): ReLU()\n",
      "    (2): Dropout(p=0.4, inplace=False)\n",
      "    (3): Linear(in_features=1024, out_features=256, bias=True)\n",
      "    (4): ReLU()\n",
      "    (5): Dropout(p=0.4, inplace=False)\n",
      "    (6): Linear(in_features=256, out_features=2, bias=True)\n",
      "  )\n",
      ")\n",
      "Train Epoch: 1, Ave Loss: nan ACC: 0.8776079322454038 Top2: 0.36551724137931035 AUC: -1 MCC: 0.111053448155777\n"
     ]
    },
    {
     "name": "stderr",
     "output_type": "stream",
     "text": [
      "/tmp/ipykernel_2406/2729200895.py:20: RuntimeWarning: invalid value encountered in true_divide\n",
      "  return up / down\n"
     ]
    },
    {
     "name": "stdout",
     "output_type": "stream",
     "text": [
      "Val Epoch: 1, Ave Loss: nan ACC: 0.8689862542955327 Top2: 0.1651376146788991 AUC: -1 MCC: nan\n",
      "Saving model (epoch =    1, top2acc = 0.1651)\n"
     ]
    },
    {
     "name": "stderr",
     "output_type": "stream",
     "text": [
      "/tmp/ipykernel_2406/2729200895.py:20: RuntimeWarning: invalid value encountered in true_divide\n",
      "  return up / down\n"
     ]
    },
    {
     "name": "stdout",
     "output_type": "stream",
     "text": [
      "Train Epoch: 2, Ave Loss: nan ACC: 0.8925841768229704 Top2: 0.15632183908045977 AUC: -1 MCC: nan\n"
     ]
    },
    {
     "name": "stderr",
     "output_type": "stream",
     "text": [
      "/tmp/ipykernel_2406/2729200895.py:20: RuntimeWarning: invalid value encountered in true_divide\n",
      "  return up / down\n"
     ]
    },
    {
     "name": "stdout",
     "output_type": "stream",
     "text": [
      "Val Epoch: 2, Ave Loss: nan ACC: 0.8689862542955327 Top2: 0.1651376146788991 AUC: -1 MCC: nan\n"
     ]
    },
    {
     "name": "stderr",
     "output_type": "stream",
     "text": [
      "/tmp/ipykernel_2406/2729200895.py:20: RuntimeWarning: invalid value encountered in true_divide\n",
      "  return up / down\n"
     ]
    },
    {
     "name": "stdout",
     "output_type": "stream",
     "text": [
      "Train Epoch: 3, Ave Loss: nan ACC: 0.8925841768229704 Top2: 0.15632183908045977 AUC: -1 MCC: nan\n"
     ]
    },
    {
     "name": "stderr",
     "output_type": "stream",
     "text": [
      "/tmp/ipykernel_2406/2729200895.py:20: RuntimeWarning: invalid value encountered in true_divide\n",
      "  return up / down\n"
     ]
    },
    {
     "name": "stdout",
     "output_type": "stream",
     "text": [
      "Val Epoch: 3, Ave Loss: nan ACC: 0.8689862542955327 Top2: 0.1651376146788991 AUC: -1 MCC: nan\n"
     ]
    },
    {
     "name": "stderr",
     "output_type": "stream",
     "text": [
      "/tmp/ipykernel_2406/2729200895.py:20: RuntimeWarning: invalid value encountered in true_divide\n",
      "  return up / down\n"
     ]
    },
    {
     "name": "stdout",
     "output_type": "stream",
     "text": [
      "Train Epoch: 4, Ave Loss: nan ACC: 0.8925841768229704 Top2: 0.15632183908045977 AUC: -1 MCC: nan\n"
     ]
    },
    {
     "name": "stderr",
     "output_type": "stream",
     "text": [
      "/tmp/ipykernel_2406/2729200895.py:20: RuntimeWarning: invalid value encountered in true_divide\n",
      "  return up / down\n"
     ]
    },
    {
     "name": "stdout",
     "output_type": "stream",
     "text": [
      "Val Epoch: 4, Ave Loss: nan ACC: 0.8689862542955327 Top2: 0.1651376146788991 AUC: -1 MCC: nan\n"
     ]
    },
    {
     "name": "stderr",
     "output_type": "stream",
     "text": [
      "/tmp/ipykernel_2406/2729200895.py:20: RuntimeWarning: invalid value encountered in true_divide\n",
      "  return up / down\n"
     ]
    },
    {
     "name": "stdout",
     "output_type": "stream",
     "text": [
      "Train Epoch: 5, Ave Loss: nan ACC: 0.8925841768229704 Top2: 0.15632183908045977 AUC: -1 MCC: nan\n"
     ]
    },
    {
     "name": "stderr",
     "output_type": "stream",
     "text": [
      "/tmp/ipykernel_2406/2729200895.py:20: RuntimeWarning: invalid value encountered in true_divide\n",
      "  return up / down\n"
     ]
    },
    {
     "name": "stdout",
     "output_type": "stream",
     "text": [
      "Val Epoch: 5, Ave Loss: nan ACC: 0.8689862542955327 Top2: 0.1651376146788991 AUC: -1 MCC: nan\n"
     ]
    },
    {
     "name": "stderr",
     "output_type": "stream",
     "text": [
      "/tmp/ipykernel_2406/2729200895.py:20: RuntimeWarning: invalid value encountered in true_divide\n",
      "  return up / down\n"
     ]
    },
    {
     "name": "stdout",
     "output_type": "stream",
     "text": [
      "Train Epoch: 6, Ave Loss: nan ACC: 0.8925841768229704 Top2: 0.15632183908045977 AUC: -1 MCC: nan\n"
     ]
    },
    {
     "name": "stderr",
     "output_type": "stream",
     "text": [
      "/tmp/ipykernel_2406/2729200895.py:20: RuntimeWarning: invalid value encountered in true_divide\n",
      "  return up / down\n"
     ]
    },
    {
     "name": "stdout",
     "output_type": "stream",
     "text": [
      "Val Epoch: 6, Ave Loss: nan ACC: 0.8689862542955327 Top2: 0.1651376146788991 AUC: -1 MCC: nan\n"
     ]
    },
    {
     "name": "stderr",
     "output_type": "stream",
     "text": [
      "/tmp/ipykernel_2406/2729200895.py:20: RuntimeWarning: invalid value encountered in true_divide\n",
      "  return up / down\n"
     ]
    },
    {
     "name": "stdout",
     "output_type": "stream",
     "text": [
      "Train Epoch: 7, Ave Loss: nan ACC: 0.8925841768229704 Top2: 0.15632183908045977 AUC: -1 MCC: nan\n"
     ]
    },
    {
     "name": "stderr",
     "output_type": "stream",
     "text": [
      "/tmp/ipykernel_2406/2729200895.py:20: RuntimeWarning: invalid value encountered in true_divide\n",
      "  return up / down\n"
     ]
    },
    {
     "name": "stdout",
     "output_type": "stream",
     "text": [
      "Val Epoch: 7, Ave Loss: nan ACC: 0.8689862542955327 Top2: 0.1651376146788991 AUC: -1 MCC: nan\n"
     ]
    },
    {
     "name": "stderr",
     "output_type": "stream",
     "text": [
      "/tmp/ipykernel_2406/2729200895.py:20: RuntimeWarning: invalid value encountered in true_divide\n",
      "  return up / down\n"
     ]
    },
    {
     "name": "stdout",
     "output_type": "stream",
     "text": [
      "Train Epoch: 8, Ave Loss: nan ACC: 0.8925841768229704 Top2: 0.15632183908045977 AUC: -1 MCC: nan\n"
     ]
    },
    {
     "name": "stderr",
     "output_type": "stream",
     "text": [
      "/tmp/ipykernel_2406/2729200895.py:20: RuntimeWarning: invalid value encountered in true_divide\n",
      "  return up / down\n"
     ]
    },
    {
     "name": "stdout",
     "output_type": "stream",
     "text": [
      "Val Epoch: 8, Ave Loss: nan ACC: 0.8689862542955327 Top2: 0.1651376146788991 AUC: -1 MCC: nan\n"
     ]
    },
    {
     "name": "stderr",
     "output_type": "stream",
     "text": [
      "/tmp/ipykernel_2406/2729200895.py:20: RuntimeWarning: invalid value encountered in true_divide\n",
      "  return up / down\n"
     ]
    },
    {
     "name": "stdout",
     "output_type": "stream",
     "text": [
      "Train Epoch: 9, Ave Loss: nan ACC: 0.8925841768229704 Top2: 0.15632183908045977 AUC: -1 MCC: nan\n"
     ]
    },
    {
     "name": "stderr",
     "output_type": "stream",
     "text": [
      "/tmp/ipykernel_2406/2729200895.py:20: RuntimeWarning: invalid value encountered in true_divide\n",
      "  return up / down\n"
     ]
    },
    {
     "name": "stdout",
     "output_type": "stream",
     "text": [
      "Val Epoch: 9, Ave Loss: nan ACC: 0.8689862542955327 Top2: 0.1651376146788991 AUC: -1 MCC: nan\n"
     ]
    },
    {
     "name": "stderr",
     "output_type": "stream",
     "text": [
      "/tmp/ipykernel_2406/2729200895.py:20: RuntimeWarning: invalid value encountered in true_divide\n",
      "  return up / down\n"
     ]
    },
    {
     "name": "stdout",
     "output_type": "stream",
     "text": [
      "Train Epoch: 10, Ave Loss: nan ACC: 0.8925841768229704 Top2: 0.15632183908045977 AUC: -1 MCC: nan\n"
     ]
    },
    {
     "name": "stderr",
     "output_type": "stream",
     "text": [
      "/tmp/ipykernel_2406/2729200895.py:20: RuntimeWarning: invalid value encountered in true_divide\n",
      "  return up / down\n"
     ]
    },
    {
     "name": "stdout",
     "output_type": "stream",
     "text": [
      "Val Epoch: 10, Ave Loss: nan ACC: 0.8689862542955327 Top2: 0.1651376146788991 AUC: -1 MCC: nan\n"
     ]
    },
    {
     "name": "stderr",
     "output_type": "stream",
     "text": [
      "/tmp/ipykernel_2406/2729200895.py:20: RuntimeWarning: invalid value encountered in true_divide\n",
      "  return up / down\n"
     ]
    },
    {
     "name": "stdout",
     "output_type": "stream",
     "text": [
      "Train Epoch: 11, Ave Loss: nan ACC: 0.8925841768229704 Top2: 0.15632183908045977 AUC: -1 MCC: nan\n"
     ]
    },
    {
     "ename": "KeyboardInterrupt",
     "evalue": "",
     "output_type": "error",
     "traceback": [
      "\u001b[0;31m---------------------------------------------------------------------------\u001b[0m",
      "\u001b[0;31mKeyboardInterrupt\u001b[0m                         Traceback (most recent call last)",
      "\u001b[0;32m/tmp/ipykernel_2406/2208579987.py\u001b[0m in \u001b[0;36m<module>\u001b[0;34m\u001b[0m\n\u001b[1;32m      1\u001b[0m \u001b[0;31m# 每个block 333 就会梯度消失\u001b[0m\u001b[0;34m\u001b[0m\u001b[0;34m\u001b[0m\u001b[0;34m\u001b[0m\u001b[0m\n\u001b[0;32m----> 2\u001b[0;31m \u001b[0mmain\u001b[0m\u001b[0;34m(\u001b[0m\u001b[0margs\u001b[0m\u001b[0;34m)\u001b[0m\u001b[0;34m\u001b[0m\u001b[0;34m\u001b[0m\u001b[0m\n\u001b[0m",
      "\u001b[0;32m/tmp/ipykernel_2406/2385512133.py\u001b[0m in \u001b[0;36mmain\u001b[0;34m(args)\u001b[0m\n\u001b[1;32m     14\u001b[0m     \u001b[0;32mfor\u001b[0m \u001b[0mepoch\u001b[0m \u001b[0;32min\u001b[0m \u001b[0mrange\u001b[0m\u001b[0;34m(\u001b[0m\u001b[0;36m1\u001b[0m\u001b[0;34m,\u001b[0m \u001b[0margs\u001b[0m\u001b[0;34m[\u001b[0m\u001b[0;34m'epoch'\u001b[0m\u001b[0;34m]\u001b[0m \u001b[0;34m+\u001b[0m \u001b[0;36m1\u001b[0m\u001b[0;34m)\u001b[0m\u001b[0;34m:\u001b[0m\u001b[0;34m\u001b[0m\u001b[0;34m\u001b[0m\u001b[0m\n\u001b[1;32m     15\u001b[0m         \u001b[0mtrain\u001b[0m\u001b[0;34m(\u001b[0m\u001b[0margs\u001b[0m\u001b[0;34m,\u001b[0m \u001b[0mmodel\u001b[0m\u001b[0;34m,\u001b[0m \u001b[0mdevice\u001b[0m\u001b[0;34m,\u001b[0m \u001b[0mtrain_loader\u001b[0m\u001b[0;34m,\u001b[0m \u001b[0moptimizer\u001b[0m\u001b[0;34m,\u001b[0m \u001b[0mloss_fn\u001b[0m\u001b[0;34m,\u001b[0m \u001b[0mepoch\u001b[0m\u001b[0;34m)\u001b[0m\u001b[0;34m\u001b[0m\u001b[0;34m\u001b[0m\u001b[0m\n\u001b[0;32m---> 16\u001b[0;31m         \u001b[0mtop2acc\u001b[0m \u001b[0;34m=\u001b[0m \u001b[0mval\u001b[0m\u001b[0;34m(\u001b[0m\u001b[0margs\u001b[0m\u001b[0;34m,\u001b[0m \u001b[0mmodel\u001b[0m\u001b[0;34m,\u001b[0m \u001b[0mdevice\u001b[0m\u001b[0;34m,\u001b[0m \u001b[0mval_loader\u001b[0m\u001b[0;34m,\u001b[0m \u001b[0moptimizer\u001b[0m\u001b[0;34m,\u001b[0m \u001b[0mloss_fn\u001b[0m\u001b[0;34m,\u001b[0m \u001b[0mepoch\u001b[0m\u001b[0;34m)\u001b[0m\u001b[0;34m\u001b[0m\u001b[0;34m\u001b[0m\u001b[0m\n\u001b[0m\u001b[1;32m     17\u001b[0m         \u001b[0mscheduler\u001b[0m\u001b[0;34m.\u001b[0m\u001b[0mstep\u001b[0m\u001b[0;34m(\u001b[0m\u001b[0;34m)\u001b[0m\u001b[0;34m\u001b[0m\u001b[0;34m\u001b[0m\u001b[0m\n\u001b[1;32m     18\u001b[0m         \u001b[0;32mif\u001b[0m \u001b[0mtop2acc\u001b[0m \u001b[0;34m>\u001b[0m \u001b[0mmax_top2\u001b[0m\u001b[0;34m:\u001b[0m\u001b[0;34m\u001b[0m\u001b[0;34m\u001b[0m\u001b[0m\n",
      "\u001b[0;32m/tmp/ipykernel_2406/2521182731.py\u001b[0m in \u001b[0;36mval\u001b[0;34m(args, model, device, val_set, optimizer, criterion, epoch)\u001b[0m\n\u001b[1;32m     15\u001b[0m         \u001b[0mloss\u001b[0m \u001b[0;34m=\u001b[0m \u001b[0mcriterion\u001b[0m\u001b[0;34m(\u001b[0m\u001b[0moutput\u001b[0m\u001b[0;34m,\u001b[0m \u001b[0mtarget\u001b[0m\u001b[0;34m)\u001b[0m\u001b[0;34m\u001b[0m\u001b[0;34m\u001b[0m\u001b[0m\n\u001b[1;32m     16\u001b[0m         \u001b[0mloss\u001b[0m\u001b[0;34m.\u001b[0m\u001b[0mbackward\u001b[0m\u001b[0;34m(\u001b[0m\u001b[0;34m)\u001b[0m\u001b[0;34m\u001b[0m\u001b[0;34m\u001b[0m\u001b[0m\n\u001b[0;32m---> 17\u001b[0;31m         \u001b[0moptimizer\u001b[0m\u001b[0;34m.\u001b[0m\u001b[0mstep\u001b[0m\u001b[0;34m(\u001b[0m\u001b[0;34m)\u001b[0m\u001b[0;34m\u001b[0m\u001b[0;34m\u001b[0m\u001b[0m\n\u001b[0m\u001b[1;32m     18\u001b[0m         \u001b[0mtotal_loss\u001b[0m \u001b[0;34m+=\u001b[0m \u001b[0mloss\u001b[0m\u001b[0;34m.\u001b[0m\u001b[0mitem\u001b[0m\u001b[0;34m(\u001b[0m\u001b[0;34m)\u001b[0m\u001b[0;34m\u001b[0m\u001b[0;34m\u001b[0m\u001b[0m\n\u001b[1;32m     19\u001b[0m         \u001b[0;31m# tracking\u001b[0m\u001b[0;34m\u001b[0m\u001b[0;34m\u001b[0m\u001b[0;34m\u001b[0m\u001b[0m\n",
      "\u001b[0;32m~/anaconda3/envs/pytorch/lib/python3.8/site-packages/torch/optim/lr_scheduler.py\u001b[0m in \u001b[0;36mwrapper\u001b[0;34m(*args, **kwargs)\u001b[0m\n\u001b[1;32m     63\u001b[0m                 \u001b[0minstance\u001b[0m\u001b[0;34m.\u001b[0m\u001b[0m_step_count\u001b[0m \u001b[0;34m+=\u001b[0m \u001b[0;36m1\u001b[0m\u001b[0;34m\u001b[0m\u001b[0;34m\u001b[0m\u001b[0m\n\u001b[1;32m     64\u001b[0m                 \u001b[0mwrapped\u001b[0m \u001b[0;34m=\u001b[0m \u001b[0mfunc\u001b[0m\u001b[0;34m.\u001b[0m\u001b[0m__get__\u001b[0m\u001b[0;34m(\u001b[0m\u001b[0minstance\u001b[0m\u001b[0;34m,\u001b[0m \u001b[0mcls\u001b[0m\u001b[0;34m)\u001b[0m\u001b[0;34m\u001b[0m\u001b[0;34m\u001b[0m\u001b[0m\n\u001b[0;32m---> 65\u001b[0;31m                 \u001b[0;32mreturn\u001b[0m \u001b[0mwrapped\u001b[0m\u001b[0;34m(\u001b[0m\u001b[0;34m*\u001b[0m\u001b[0margs\u001b[0m\u001b[0;34m,\u001b[0m \u001b[0;34m**\u001b[0m\u001b[0mkwargs\u001b[0m\u001b[0;34m)\u001b[0m\u001b[0;34m\u001b[0m\u001b[0;34m\u001b[0m\u001b[0m\n\u001b[0m\u001b[1;32m     66\u001b[0m \u001b[0;34m\u001b[0m\u001b[0m\n\u001b[1;32m     67\u001b[0m             \u001b[0;31m# Note that the returned function here is no longer a bound method,\u001b[0m\u001b[0;34m\u001b[0m\u001b[0;34m\u001b[0m\u001b[0;34m\u001b[0m\u001b[0m\n",
      "\u001b[0;32m~/anaconda3/envs/pytorch/lib/python3.8/site-packages/torch/optim/optimizer.py\u001b[0m in \u001b[0;36mwrapper\u001b[0;34m(*args, **kwargs)\u001b[0m\n\u001b[1;32m     86\u001b[0m                 \u001b[0mprofile_name\u001b[0m \u001b[0;34m=\u001b[0m \u001b[0;34m\"Optimizer.step#{}.step\"\u001b[0m\u001b[0;34m.\u001b[0m\u001b[0mformat\u001b[0m\u001b[0;34m(\u001b[0m\u001b[0mobj\u001b[0m\u001b[0;34m.\u001b[0m\u001b[0m__class__\u001b[0m\u001b[0;34m.\u001b[0m\u001b[0m__name__\u001b[0m\u001b[0;34m)\u001b[0m\u001b[0;34m\u001b[0m\u001b[0;34m\u001b[0m\u001b[0m\n\u001b[1;32m     87\u001b[0m                 \u001b[0;32mwith\u001b[0m \u001b[0mtorch\u001b[0m\u001b[0;34m.\u001b[0m\u001b[0mautograd\u001b[0m\u001b[0;34m.\u001b[0m\u001b[0mprofiler\u001b[0m\u001b[0;34m.\u001b[0m\u001b[0mrecord_function\u001b[0m\u001b[0;34m(\u001b[0m\u001b[0mprofile_name\u001b[0m\u001b[0;34m)\u001b[0m\u001b[0;34m:\u001b[0m\u001b[0;34m\u001b[0m\u001b[0;34m\u001b[0m\u001b[0m\n\u001b[0;32m---> 88\u001b[0;31m                     \u001b[0;32mreturn\u001b[0m \u001b[0mfunc\u001b[0m\u001b[0;34m(\u001b[0m\u001b[0;34m*\u001b[0m\u001b[0margs\u001b[0m\u001b[0;34m,\u001b[0m \u001b[0;34m**\u001b[0m\u001b[0mkwargs\u001b[0m\u001b[0;34m)\u001b[0m\u001b[0;34m\u001b[0m\u001b[0;34m\u001b[0m\u001b[0m\n\u001b[0m\u001b[1;32m     89\u001b[0m             \u001b[0;32mreturn\u001b[0m \u001b[0mwrapper\u001b[0m\u001b[0;34m\u001b[0m\u001b[0;34m\u001b[0m\u001b[0m\n\u001b[1;32m     90\u001b[0m \u001b[0;34m\u001b[0m\u001b[0m\n",
      "\u001b[0;32m~/anaconda3/envs/pytorch/lib/python3.8/site-packages/torch/autograd/grad_mode.py\u001b[0m in \u001b[0;36mdecorate_context\u001b[0;34m(*args, **kwargs)\u001b[0m\n\u001b[1;32m     26\u001b[0m         \u001b[0;32mdef\u001b[0m \u001b[0mdecorate_context\u001b[0m\u001b[0;34m(\u001b[0m\u001b[0;34m*\u001b[0m\u001b[0margs\u001b[0m\u001b[0;34m,\u001b[0m \u001b[0;34m**\u001b[0m\u001b[0mkwargs\u001b[0m\u001b[0;34m)\u001b[0m\u001b[0;34m:\u001b[0m\u001b[0;34m\u001b[0m\u001b[0;34m\u001b[0m\u001b[0m\n\u001b[1;32m     27\u001b[0m             \u001b[0;32mwith\u001b[0m \u001b[0mself\u001b[0m\u001b[0;34m.\u001b[0m\u001b[0m__class__\u001b[0m\u001b[0;34m(\u001b[0m\u001b[0;34m)\u001b[0m\u001b[0;34m:\u001b[0m\u001b[0;34m\u001b[0m\u001b[0;34m\u001b[0m\u001b[0m\n\u001b[0;32m---> 28\u001b[0;31m                 \u001b[0;32mreturn\u001b[0m \u001b[0mfunc\u001b[0m\u001b[0;34m(\u001b[0m\u001b[0;34m*\u001b[0m\u001b[0margs\u001b[0m\u001b[0;34m,\u001b[0m \u001b[0;34m**\u001b[0m\u001b[0mkwargs\u001b[0m\u001b[0;34m)\u001b[0m\u001b[0;34m\u001b[0m\u001b[0;34m\u001b[0m\u001b[0m\n\u001b[0m\u001b[1;32m     29\u001b[0m         \u001b[0;32mreturn\u001b[0m \u001b[0mcast\u001b[0m\u001b[0;34m(\u001b[0m\u001b[0mF\u001b[0m\u001b[0;34m,\u001b[0m \u001b[0mdecorate_context\u001b[0m\u001b[0;34m)\u001b[0m\u001b[0;34m\u001b[0m\u001b[0;34m\u001b[0m\u001b[0m\n\u001b[1;32m     30\u001b[0m \u001b[0;34m\u001b[0m\u001b[0m\n",
      "\u001b[0;32m~/anaconda3/envs/pytorch/lib/python3.8/site-packages/torch/optim/adam.py\u001b[0m in \u001b[0;36mstep\u001b[0;34m(self, closure)\u001b[0m\n\u001b[1;32m    105\u001b[0m                     \u001b[0mstate_steps\u001b[0m\u001b[0;34m.\u001b[0m\u001b[0mappend\u001b[0m\u001b[0;34m(\u001b[0m\u001b[0mstate\u001b[0m\u001b[0;34m[\u001b[0m\u001b[0;34m'step'\u001b[0m\u001b[0;34m]\u001b[0m\u001b[0;34m)\u001b[0m\u001b[0;34m\u001b[0m\u001b[0;34m\u001b[0m\u001b[0m\n\u001b[1;32m    106\u001b[0m \u001b[0;34m\u001b[0m\u001b[0m\n\u001b[0;32m--> 107\u001b[0;31m             F.adam(params_with_grad,\n\u001b[0m\u001b[1;32m    108\u001b[0m                    \u001b[0mgrads\u001b[0m\u001b[0;34m,\u001b[0m\u001b[0;34m\u001b[0m\u001b[0;34m\u001b[0m\u001b[0m\n\u001b[1;32m    109\u001b[0m                    \u001b[0mexp_avgs\u001b[0m\u001b[0;34m,\u001b[0m\u001b[0;34m\u001b[0m\u001b[0;34m\u001b[0m\u001b[0m\n",
      "\u001b[0;32m~/anaconda3/envs/pytorch/lib/python3.8/site-packages/torch/optim/_functional.py\u001b[0m in \u001b[0;36madam\u001b[0;34m(params, grads, exp_avgs, exp_avg_sqs, max_exp_avg_sqs, state_steps, amsgrad, beta1, beta2, lr, weight_decay, eps)\u001b[0m\n\u001b[1;32m     92\u001b[0m             \u001b[0mdenom\u001b[0m \u001b[0;34m=\u001b[0m \u001b[0;34m(\u001b[0m\u001b[0mmax_exp_avg_sqs\u001b[0m\u001b[0;34m[\u001b[0m\u001b[0mi\u001b[0m\u001b[0;34m]\u001b[0m\u001b[0;34m.\u001b[0m\u001b[0msqrt\u001b[0m\u001b[0;34m(\u001b[0m\u001b[0;34m)\u001b[0m \u001b[0;34m/\u001b[0m \u001b[0mmath\u001b[0m\u001b[0;34m.\u001b[0m\u001b[0msqrt\u001b[0m\u001b[0;34m(\u001b[0m\u001b[0mbias_correction2\u001b[0m\u001b[0;34m)\u001b[0m\u001b[0;34m)\u001b[0m\u001b[0;34m.\u001b[0m\u001b[0madd_\u001b[0m\u001b[0;34m(\u001b[0m\u001b[0meps\u001b[0m\u001b[0;34m)\u001b[0m\u001b[0;34m\u001b[0m\u001b[0;34m\u001b[0m\u001b[0m\n\u001b[1;32m     93\u001b[0m         \u001b[0;32melse\u001b[0m\u001b[0;34m:\u001b[0m\u001b[0;34m\u001b[0m\u001b[0;34m\u001b[0m\u001b[0m\n\u001b[0;32m---> 94\u001b[0;31m             \u001b[0mdenom\u001b[0m \u001b[0;34m=\u001b[0m \u001b[0;34m(\u001b[0m\u001b[0mexp_avg_sq\u001b[0m\u001b[0;34m.\u001b[0m\u001b[0msqrt\u001b[0m\u001b[0;34m(\u001b[0m\u001b[0;34m)\u001b[0m \u001b[0;34m/\u001b[0m \u001b[0mmath\u001b[0m\u001b[0;34m.\u001b[0m\u001b[0msqrt\u001b[0m\u001b[0;34m(\u001b[0m\u001b[0mbias_correction2\u001b[0m\u001b[0;34m)\u001b[0m\u001b[0;34m)\u001b[0m\u001b[0;34m.\u001b[0m\u001b[0madd_\u001b[0m\u001b[0;34m(\u001b[0m\u001b[0meps\u001b[0m\u001b[0;34m)\u001b[0m\u001b[0;34m\u001b[0m\u001b[0;34m\u001b[0m\u001b[0m\n\u001b[0m\u001b[1;32m     95\u001b[0m \u001b[0;34m\u001b[0m\u001b[0m\n\u001b[1;32m     96\u001b[0m         \u001b[0mstep_size\u001b[0m \u001b[0;34m=\u001b[0m \u001b[0mlr\u001b[0m \u001b[0;34m/\u001b[0m \u001b[0mbias_correction1\u001b[0m\u001b[0;34m\u001b[0m\u001b[0;34m\u001b[0m\u001b[0m\n",
      "\u001b[0;31mKeyboardInterrupt\u001b[0m: "
     ]
    }
   ],
   "source": [
    "# 每个block 333 就会梯度消失\n",
    "main(args)"
   ]
  },
  {
   "cell_type": "code",
   "execution_count": 53,
   "metadata": {},
   "outputs": [],
   "source": [
    "def test(model, device, test_set):\n",
    "    model.eval()\n",
    "    sf = nn.Softmax(dim=1)\n",
    "    all_pred = []\n",
    "    all_pred_raw = []\n",
    "    all_labels = []\n",
    "    top2n = 0\n",
    "    with torch.no_grad():\n",
    "        for mol in test_set:\n",
    "            mol = mol.to(device)\n",
    "            mol.x = mol.x.to(torch.float32)\n",
    "            mol.edge_attr = mol.edge_attr.to(torch.float32)\n",
    "            target = mol.y\n",
    "            output = model(mol)\n",
    "            # squeeze\n",
    "            output = torch.squeeze(output)\n",
    "            # tracking\n",
    "            top2n += top2(output, target)\n",
    "            all_pred.append(np.argmax(output.cpu().detach().numpy(), axis=1))\n",
    "            all_pred_raw.append(sf(output)[:, 1].cpu().detach().numpy())\n",
    "            all_labels.append(target.cpu().detach().numpy())\n",
    "    all_pred = np.concatenate(all_pred).ravel()\n",
    "    all_pred_raw = np.concatenate(all_pred_raw).ravel()\n",
    "    all_labels = np.concatenate(all_labels).ravel()\n",
    "    mcc, selectivity, recall, g_mean, balancedAcc = metrics(all_pred, all_labels)\n",
    "    print(f'ACC: {accuracy_score(all_labels, all_pred)} \\\n",
    "        Top2: {top2n / len(test_set)} \\\n",
    "        AUC: {roc_auc_score(all_labels, all_pred_raw)}\\\n",
    "        MCC: {mcc} selectivity {selectivity} recall {recall} \\\n",
    "        g_mean {g_mean} balanced acc {balancedAcc} f1score {f1_score(all_labels, all_pred)} \\\n",
    "        precision score {precision_score(all_labels, all_pred)} jaccard score {jaccard_score(all_labels, all_pred)}')"
   ]
  },
  {
   "cell_type": "code",
   "execution_count": 54,
   "metadata": {},
   "outputs": [
    {
     "data": {
      "text/plain": [
       "<All keys matched successfully>"
      ]
     },
     "execution_count": 54,
     "metadata": {},
     "output_type": "execute_result"
    }
   ],
   "source": [
    "model = MGraphDTA(filter_num=32, out_dim=2).to(\"cuda\")\n",
    "model.load_state_dict(torch.load(args['save_path']))"
   ]
  },
  {
   "cell_type": "code",
   "execution_count": 55,
   "metadata": {},
   "outputs": [
    {
     "name": "stdout",
     "output_type": "stream",
     "text": [
      "ACC: 0.8824792881251918         Top2: 0.6911764705882353         AUC: 0.7910855938255269        MCC: 0.3663908148910571 selectivity 0.9282800815771584 recall 0.45741324921135645         g_mean 0.6516192203214934 balanced acc 0.6928466653942574 f1score 0.43090638930163444         precision score 0.40730337078651685 jaccard score 0.2746212121212121\n"
     ]
    }
   ],
   "source": [
    "test(model, \"cuda\", test_loader)"
   ]
  },
  {
   "cell_type": "code",
   "execution_count": null,
   "metadata": {},
   "outputs": [],
   "source": []
  }
 ],
 "metadata": {
  "kernelspec": {
   "display_name": "Python 3.8.11 ('pytorch')",
   "language": "python",
   "name": "python3"
  },
  "language_info": {
   "codemirror_mode": {
    "name": "ipython",
    "version": 3
   },
   "file_extension": ".py",
   "mimetype": "text/x-python",
   "name": "python",
   "nbconvert_exporter": "python",
   "pygments_lexer": "ipython3",
   "version": "3.8.11"
  },
  "orig_nbformat": 4,
  "vscode": {
   "interpreter": {
    "hash": "ae2bdcb5ffd42edc58b1d6fb8428ae1d2700e79a4fc0c0139ea5d98047639f54"
   }
  }
 },
 "nbformat": 4,
 "nbformat_minor": 2
}
